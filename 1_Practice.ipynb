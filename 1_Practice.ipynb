{
 "cells": [
  {
   "cell_type": "code",
   "execution_count": 1,
   "metadata": {},
   "outputs": [
    {
     "name": "stdout",
     "output_type": "stream",
     "text": [
      "your time in seconds 7593\n",
      "02:06:33\n"
     ]
    }
   ],
   "source": [
    "# Задание 2\n",
    "\n",
    "def zero_for_num(f):  # puts zero where it's missing\n",
    "    if len(f) == 1:\n",
    "        f = \"0\" + f\n",
    "    return(f)\n",
    "\n",
    "time_in_sec = int(input(\"your time in seconds \"))\n",
    "hh = str(int(time_in_sec // 3600))  # hours\n",
    "mm = str(int(time_in_sec % 3600 / 60)) # minutes\n",
    "ss = str(int(time_in_sec % 60)) # seconds\n",
    "\n",
    "hh = \"0\" + hh if len(hh) == 1 else hh # remembering how it can be done (sorry)\n",
    "mm = \"0\" + mm if len(mm) == 1 else mm\n",
    "ss = zero_for_num(ss)\n",
    "\n",
    "print('{}:{}:{}'.format(hh, mm, ss))"
   ]
  },
  {
   "cell_type": "code",
   "execution_count": 2,
   "metadata": {},
   "outputs": [
    {
     "name": "stdout",
     "output_type": "stream",
     "text": [
      "Please enter a one-digit number: 45\n",
      "Please learn how to count till one and make another attempt to enter a one-digit number: 32\n",
      "You know nothing, Jon Snow..\n",
      "But if you insist: 326496\n"
     ]
    }
   ],
   "source": [
    "# Задание 3\n",
    "\n",
    "def getting_summ(i):  #getting the number we need\n",
    "    ii = int(i+i)\n",
    "    iii = int(i+i+i)\n",
    "    what_we_seek = int(i) + ii + iii\n",
    "    return(what_we_seek)\n",
    "\n",
    "i = str(int(input(\"Please enter a one-digit number: \"))) # The number to be tortured \n",
    "\n",
    "#  (one-didgit just for the sake of practice)\n",
    "\n",
    "if len(i) == 1:  \n",
    "    print(f\"And the winner is.. {getting_summ(i)}!\")\n",
    "else:  \n",
    "    i = str(int(input(\"Please learn how to count till one and make another attempt to enter a one-digit number: \")))\n",
    "    if len(i) == 1:\n",
    "        print(f\"You've made it!\\nAnd the winner is.. {getting_summ(i)}!\")\n",
    "    else:\n",
    "        num_long = getting_summ(i)\n",
    "        print(f\"You know nothing, Jon Snow..\\nBut if you insist: {num_long}\")"
   ]
  },
  {
   "cell_type": "code",
   "execution_count": null,
   "metadata": {},
   "outputs": [],
   "source": []
  }
 ],
 "metadata": {
  "kernelspec": {
   "display_name": "Python 3",
   "language": "python",
   "name": "python3"
  },
  "language_info": {
   "codemirror_mode": {
    "name": "ipython",
    "version": 3
   },
   "file_extension": ".py",
   "mimetype": "text/x-python",
   "name": "python",
   "nbconvert_exporter": "python",
   "pygments_lexer": "ipython3",
   "version": "3.8.5"
  }
 },
 "nbformat": 4,
 "nbformat_minor": 4
}
